{
 "cells": [
  {
   "cell_type": "code",
   "execution_count": 1,
   "metadata": {},
   "outputs": [
    {
     "name": "stdout",
     "output_type": "stream",
     "text": [
      "Collecting spacy\n",
      "  Downloading spacy-3.8.4-cp310-cp310-win_amd64.whl.metadata (27 kB)\n",
      "Collecting spacy-legacy<3.1.0,>=3.0.11 (from spacy)\n",
      "  Using cached spacy_legacy-3.0.12-py2.py3-none-any.whl.metadata (2.8 kB)\n",
      "Collecting spacy-loggers<2.0.0,>=1.0.0 (from spacy)\n",
      "  Using cached spacy_loggers-1.0.5-py3-none-any.whl.metadata (23 kB)\n",
      "Collecting murmurhash<1.1.0,>=0.28.0 (from spacy)\n",
      "  Downloading murmurhash-1.0.12-cp310-cp310-win_amd64.whl.metadata (2.2 kB)\n",
      "Collecting cymem<2.1.0,>=2.0.2 (from spacy)\n",
      "  Downloading cymem-2.0.11-cp310-cp310-win_amd64.whl.metadata (8.8 kB)\n",
      "Collecting preshed<3.1.0,>=3.0.2 (from spacy)\n",
      "  Downloading preshed-3.0.9-cp310-cp310-win_amd64.whl.metadata (2.2 kB)\n",
      "Collecting thinc<8.4.0,>=8.3.4 (from spacy)\n",
      "  Downloading thinc-8.3.4-cp310-cp310-win_amd64.whl.metadata (15 kB)\n",
      "Collecting wasabi<1.2.0,>=0.9.1 (from spacy)\n",
      "  Using cached wasabi-1.1.3-py3-none-any.whl.metadata (28 kB)\n",
      "Collecting srsly<3.0.0,>=2.4.3 (from spacy)\n",
      "  Downloading srsly-2.5.1-cp310-cp310-win_amd64.whl.metadata (20 kB)\n",
      "Collecting catalogue<2.1.0,>=2.0.6 (from spacy)\n",
      "  Using cached catalogue-2.0.10-py3-none-any.whl.metadata (14 kB)\n",
      "Collecting weasel<0.5.0,>=0.1.0 (from spacy)\n",
      "  Using cached weasel-0.4.1-py3-none-any.whl.metadata (4.6 kB)\n",
      "Collecting typer<1.0.0,>=0.3.0 (from spacy)\n",
      "  Downloading typer-0.15.1-py3-none-any.whl.metadata (15 kB)\n",
      "Collecting tqdm<5.0.0,>=4.38.0 (from spacy)\n",
      "  Downloading tqdm-4.67.1-py3-none-any.whl.metadata (57 kB)\n",
      "Collecting numpy>=1.19.0 (from spacy)\n",
      "  Downloading numpy-2.2.2-cp310-cp310-win_amd64.whl.metadata (60 kB)\n",
      "Collecting requests<3.0.0,>=2.13.0 (from spacy)\n",
      "  Downloading requests-2.32.3-py3-none-any.whl.metadata (4.6 kB)\n",
      "Collecting pydantic!=1.8,!=1.8.1,<3.0.0,>=1.7.4 (from spacy)\n",
      "  Downloading pydantic-2.10.6-py3-none-any.whl.metadata (30 kB)\n",
      "Collecting jinja2 (from spacy)\n",
      "  Downloading jinja2-3.1.5-py3-none-any.whl.metadata (2.6 kB)\n",
      "Requirement already satisfied: setuptools in c:\\users\\asus\\onedrive\\bureau\\environement\\.conda\\lib\\site-packages (from spacy) (75.1.0)\n",
      "Requirement already satisfied: packaging>=20.0 in c:\\users\\asus\\onedrive\\bureau\\environement\\.conda\\lib\\site-packages (from spacy) (24.2)\n",
      "Collecting langcodes<4.0.0,>=3.2.0 (from spacy)\n",
      "  Using cached langcodes-3.5.0-py3-none-any.whl.metadata (29 kB)\n",
      "Collecting language-data>=1.2 (from langcodes<4.0.0,>=3.2.0->spacy)\n",
      "  Using cached language_data-1.3.0-py3-none-any.whl.metadata (4.3 kB)\n",
      "Collecting annotated-types>=0.6.0 (from pydantic!=1.8,!=1.8.1,<3.0.0,>=1.7.4->spacy)\n",
      "  Downloading annotated_types-0.7.0-py3-none-any.whl.metadata (15 kB)\n",
      "Collecting pydantic-core==2.27.2 (from pydantic!=1.8,!=1.8.1,<3.0.0,>=1.7.4->spacy)\n",
      "  Downloading pydantic_core-2.27.2-cp310-cp310-win_amd64.whl.metadata (6.7 kB)\n",
      "Requirement already satisfied: typing-extensions>=4.12.2 in c:\\users\\asus\\onedrive\\bureau\\environement\\.conda\\lib\\site-packages (from pydantic!=1.8,!=1.8.1,<3.0.0,>=1.7.4->spacy) (4.12.2)\n",
      "Collecting charset-normalizer<4,>=2 (from requests<3.0.0,>=2.13.0->spacy)\n",
      "  Downloading charset_normalizer-3.4.1-cp310-cp310-win_amd64.whl.metadata (36 kB)\n",
      "Collecting idna<4,>=2.5 (from requests<3.0.0,>=2.13.0->spacy)\n",
      "  Downloading idna-3.10-py3-none-any.whl.metadata (10 kB)\n",
      "Collecting urllib3<3,>=1.21.1 (from requests<3.0.0,>=2.13.0->spacy)\n",
      "  Downloading urllib3-2.3.0-py3-none-any.whl.metadata (6.5 kB)\n",
      "Collecting certifi>=2017.4.17 (from requests<3.0.0,>=2.13.0->spacy)\n",
      "  Downloading certifi-2024.12.14-py3-none-any.whl.metadata (2.3 kB)\n",
      "Collecting blis<1.3.0,>=1.2.0 (from thinc<8.4.0,>=8.3.4->spacy)\n",
      "  Downloading blis-1.2.0-cp310-cp310-win_amd64.whl.metadata (7.9 kB)\n",
      "Collecting confection<1.0.0,>=0.0.1 (from thinc<8.4.0,>=8.3.4->spacy)\n",
      "  Using cached confection-0.1.5-py3-none-any.whl.metadata (19 kB)\n",
      "Requirement already satisfied: colorama in c:\\users\\asus\\onedrive\\bureau\\environement\\.conda\\lib\\site-packages (from tqdm<5.0.0,>=4.38.0->spacy) (0.4.6)\n",
      "Collecting click>=8.0.0 (from typer<1.0.0,>=0.3.0->spacy)\n",
      "  Downloading click-8.1.8-py3-none-any.whl.metadata (2.3 kB)\n",
      "Collecting shellingham>=1.3.0 (from typer<1.0.0,>=0.3.0->spacy)\n",
      "  Downloading shellingham-1.5.4-py2.py3-none-any.whl.metadata (3.5 kB)\n",
      "Collecting rich>=10.11.0 (from typer<1.0.0,>=0.3.0->spacy)\n",
      "  Downloading rich-13.9.4-py3-none-any.whl.metadata (18 kB)\n",
      "Collecting cloudpathlib<1.0.0,>=0.7.0 (from weasel<0.5.0,>=0.1.0->spacy)\n",
      "  Using cached cloudpathlib-0.20.0-py3-none-any.whl.metadata (14 kB)\n",
      "Collecting smart-open<8.0.0,>=5.2.1 (from weasel<0.5.0,>=0.1.0->spacy)\n",
      "  Downloading smart_open-7.1.0-py3-none-any.whl.metadata (24 kB)\n",
      "Collecting MarkupSafe>=2.0 (from jinja2->spacy)\n",
      "  Downloading MarkupSafe-3.0.2-cp310-cp310-win_amd64.whl.metadata (4.1 kB)\n",
      "Collecting marisa-trie>=1.1.0 (from language-data>=1.2->langcodes<4.0.0,>=3.2.0->spacy)\n",
      "  Downloading marisa_trie-1.2.1-cp310-cp310-win_amd64.whl.metadata (9.3 kB)\n",
      "Collecting markdown-it-py>=2.2.0 (from rich>=10.11.0->typer<1.0.0,>=0.3.0->spacy)\n",
      "  Downloading markdown_it_py-3.0.0-py3-none-any.whl.metadata (6.9 kB)\n",
      "Requirement already satisfied: pygments<3.0.0,>=2.13.0 in c:\\users\\asus\\onedrive\\bureau\\environement\\.conda\\lib\\site-packages (from rich>=10.11.0->typer<1.0.0,>=0.3.0->spacy) (2.19.1)\n",
      "Collecting wrapt (from smart-open<8.0.0,>=5.2.1->weasel<0.5.0,>=0.1.0->spacy)\n",
      "  Downloading wrapt-1.17.2-cp310-cp310-win_amd64.whl.metadata (6.5 kB)\n",
      "Collecting mdurl~=0.1 (from markdown-it-py>=2.2.0->rich>=10.11.0->typer<1.0.0,>=0.3.0->spacy)\n",
      "  Downloading mdurl-0.1.2-py3-none-any.whl.metadata (1.6 kB)\n",
      "Downloading spacy-3.8.4-cp310-cp310-win_amd64.whl (12.2 MB)\n",
      "   ---------------------------------------- 0.0/12.2 MB ? eta -:--:--\n",
      "    --------------------------------------- 0.3/12.2 MB ? eta -:--:--\n",
      "   - -------------------------------------- 0.5/12.2 MB 1.7 MB/s eta 0:00:07\n",
      "   --- ------------------------------------ 1.0/12.2 MB 1.7 MB/s eta 0:00:07\n",
      "   ---- ----------------------------------- 1.3/12.2 MB 1.7 MB/s eta 0:00:07\n",
      "   ------ --------------------------------- 1.8/12.2 MB 1.7 MB/s eta 0:00:06\n",
      "   ------ --------------------------------- 2.1/12.2 MB 1.7 MB/s eta 0:00:06\n",
      "   -------- ------------------------------- 2.6/12.2 MB 1.7 MB/s eta 0:00:06\n",
      "   --------- ------------------------------ 2.9/12.2 MB 1.7 MB/s eta 0:00:06\n",
      "   ---------- ----------------------------- 3.1/12.2 MB 1.7 MB/s eta 0:00:06\n",
      "   ------------ --------------------------- 3.7/12.2 MB 1.7 MB/s eta 0:00:05\n",
      "   ------------ --------------------------- 3.9/12.2 MB 1.7 MB/s eta 0:00:05\n",
      "   -------------- ------------------------- 4.5/12.2 MB 1.7 MB/s eta 0:00:05\n",
      "   -------------- ------------------------- 4.5/12.2 MB 1.7 MB/s eta 0:00:05\n",
      "   ---------------- ----------------------- 5.0/12.2 MB 1.7 MB/s eta 0:00:05\n",
      "   ----------------- ---------------------- 5.2/12.2 MB 1.7 MB/s eta 0:00:05\n",
      "   ------------------ --------------------- 5.8/12.2 MB 1.7 MB/s eta 0:00:04\n",
      "   ------------------- -------------------- 6.0/12.2 MB 1.7 MB/s eta 0:00:04\n",
      "   --------------------- ------------------ 6.6/12.2 MB 1.7 MB/s eta 0:00:04\n",
      "   ---------------------- ----------------- 6.8/12.2 MB 1.7 MB/s eta 0:00:04\n",
      "   ----------------------- ---------------- 7.1/12.2 MB 1.7 MB/s eta 0:00:04\n",
      "   ------------------------ --------------- 7.6/12.2 MB 1.7 MB/s eta 0:00:03\n",
      "   ------------------------- -------------- 7.9/12.2 MB 1.7 MB/s eta 0:00:03\n",
      "   --------------------------- ------------ 8.4/12.2 MB 1.7 MB/s eta 0:00:03\n",
      "   ---------------------------- ----------- 8.7/12.2 MB 1.7 MB/s eta 0:00:03\n",
      "   ----------------------------- ---------- 8.9/12.2 MB 1.7 MB/s eta 0:00:02\n",
      "   ------------------------------ --------- 9.4/12.2 MB 1.7 MB/s eta 0:00:02\n",
      "   ------------------------------- -------- 9.7/12.2 MB 1.7 MB/s eta 0:00:02\n",
      "   -------------------------------- ------- 10.0/12.2 MB 1.7 MB/s eta 0:00:02\n",
      "   ---------------------------------- ----- 10.5/12.2 MB 1.7 MB/s eta 0:00:02\n",
      "   ----------------------------------- ---- 10.7/12.2 MB 1.7 MB/s eta 0:00:01\n",
      "   ------------------------------------ --- 11.3/12.2 MB 1.7 MB/s eta 0:00:01\n",
      "   ------------------------------------- -- 11.5/12.2 MB 1.7 MB/s eta 0:00:01\n",
      "   ---------------------------------------  12.1/12.2 MB 1.7 MB/s eta 0:00:01\n",
      "   ---------------------------------------- 12.2/12.2 MB 1.7 MB/s eta 0:00:00\n",
      "Using cached catalogue-2.0.10-py3-none-any.whl (17 kB)\n",
      "Downloading cymem-2.0.11-cp310-cp310-win_amd64.whl (39 kB)\n",
      "Using cached langcodes-3.5.0-py3-none-any.whl (182 kB)\n",
      "Downloading murmurhash-1.0.12-cp310-cp310-win_amd64.whl (25 kB)\n",
      "Downloading numpy-2.2.2-cp310-cp310-win_amd64.whl (12.9 MB)\n",
      "   ---------------------------------------- 0.0/12.9 MB ? eta -:--:--\n",
      "    --------------------------------------- 0.3/12.9 MB ? eta -:--:--\n",
      "   - -------------------------------------- 0.5/12.9 MB 1.9 MB/s eta 0:00:07\n",
      "   --- ------------------------------------ 1.0/12.9 MB 1.8 MB/s eta 0:00:07\n",
      "   --- ------------------------------------ 1.0/12.9 MB 1.8 MB/s eta 0:00:07\n",
      "   ---- ----------------------------------- 1.6/12.9 MB 1.6 MB/s eta 0:00:08\n",
      "   ----- ---------------------------------- 1.8/12.9 MB 1.6 MB/s eta 0:00:08\n",
      "   ------ --------------------------------- 2.1/12.9 MB 1.6 MB/s eta 0:00:07\n",
      "   -------- ------------------------------- 2.6/12.9 MB 1.6 MB/s eta 0:00:07\n",
      "   -------- ------------------------------- 2.9/12.9 MB 1.6 MB/s eta 0:00:07\n",
      "   ---------- ----------------------------- 3.4/12.9 MB 1.6 MB/s eta 0:00:06\n",
      "   ----------- ---------------------------- 3.7/12.9 MB 1.6 MB/s eta 0:00:06\n",
      "   ------------ --------------------------- 3.9/12.9 MB 1.6 MB/s eta 0:00:06\n",
      "   ------------- -------------------------- 4.5/12.9 MB 1.7 MB/s eta 0:00:06\n",
      "   -------------- ------------------------- 4.7/12.9 MB 1.7 MB/s eta 0:00:05\n",
      "   ---------------- ----------------------- 5.2/12.9 MB 1.7 MB/s eta 0:00:05\n",
      "   ----------------- ---------------------- 5.5/12.9 MB 1.7 MB/s eta 0:00:05\n",
      "   ----------------- ---------------------- 5.8/12.9 MB 1.7 MB/s eta 0:00:05\n",
      "   ------------------- -------------------- 6.3/12.9 MB 1.7 MB/s eta 0:00:04\n",
      "   -------------------- ------------------- 6.6/12.9 MB 1.7 MB/s eta 0:00:04\n",
      "   --------------------- ------------------ 6.8/12.9 MB 1.7 MB/s eta 0:00:04\n",
      "   ---------------------- ----------------- 7.3/12.9 MB 1.7 MB/s eta 0:00:04\n",
      "   ----------------------- ---------------- 7.6/12.9 MB 1.7 MB/s eta 0:00:04\n",
      "   ------------------------- -------------- 8.1/12.9 MB 1.7 MB/s eta 0:00:03\n",
      "   ------------------------- -------------- 8.4/12.9 MB 1.7 MB/s eta 0:00:03\n",
      "   -------------------------- ------------- 8.7/12.9 MB 1.7 MB/s eta 0:00:03\n",
      "   ---------------------------- ----------- 9.2/12.9 MB 1.7 MB/s eta 0:00:03\n",
      "   ----------------------------- ---------- 9.4/12.9 MB 1.7 MB/s eta 0:00:03\n",
      "   ------------------------------ --------- 10.0/12.9 MB 1.7 MB/s eta 0:00:02\n",
      "   ------------------------------- -------- 10.2/12.9 MB 1.7 MB/s eta 0:00:02\n",
      "   -------------------------------- ------- 10.5/12.9 MB 1.7 MB/s eta 0:00:02\n",
      "   ---------------------------------- ----- 11.0/12.9 MB 1.7 MB/s eta 0:00:02\n",
      "   ---------------------------------- ----- 11.3/12.9 MB 1.7 MB/s eta 0:00:01\n",
      "   ------------------------------------ --- 11.8/12.9 MB 1.7 MB/s eta 0:00:01\n",
      "   ------------------------------------- -- 12.1/12.9 MB 1.7 MB/s eta 0:00:01\n",
      "   -------------------------------------- - 12.3/12.9 MB 1.7 MB/s eta 0:00:01\n",
      "   -------------------------------------- - 12.6/12.9 MB 1.7 MB/s eta 0:00:01\n",
      "   ---------------------------------------  12.8/12.9 MB 1.7 MB/s eta 0:00:01\n",
      "   ---------------------------------------- 12.9/12.9 MB 1.6 MB/s eta 0:00:00\n",
      "Downloading preshed-3.0.9-cp310-cp310-win_amd64.whl (122 kB)\n",
      "Downloading pydantic-2.10.6-py3-none-any.whl (431 kB)\n",
      "Downloading pydantic_core-2.27.2-cp310-cp310-win_amd64.whl (2.0 MB)\n",
      "   ---------------------------------------- 0.0/2.0 MB ? eta -:--:--\n",
      "   ----- ---------------------------------- 0.3/2.0 MB ? eta -:--:--\n",
      "   ---------- ----------------------------- 0.5/2.0 MB 1.9 MB/s eta 0:00:01\n",
      "   --------------- ------------------------ 0.8/2.0 MB 1.8 MB/s eta 0:00:01\n",
      "   -------------------------- ------------- 1.3/2.0 MB 1.8 MB/s eta 0:00:01\n",
      "   ------------------------------- -------- 1.6/2.0 MB 1.8 MB/s eta 0:00:01\n",
      "   ---------------------------------------- 2.0/2.0 MB 1.7 MB/s eta 0:00:00\n",
      "Downloading requests-2.32.3-py3-none-any.whl (64 kB)\n",
      "Using cached spacy_legacy-3.0.12-py2.py3-none-any.whl (29 kB)\n",
      "Using cached spacy_loggers-1.0.5-py3-none-any.whl (22 kB)\n",
      "Downloading srsly-2.5.1-cp310-cp310-win_amd64.whl (632 kB)\n",
      "   ---------------------------------------- 0.0/632.3 kB ? eta -:--:--\n",
      "   ---------------- ----------------------- 262.1/632.3 kB ? eta -:--:--\n",
      "   ---------------------------------------- 632.3/632.3 kB 1.7 MB/s eta 0:00:00\n",
      "Downloading thinc-8.3.4-cp310-cp310-win_amd64.whl (1.5 MB)\n",
      "   ---------------------------------------- 0.0/1.5 MB ? eta -:--:--\n",
      "   ------- -------------------------------- 0.3/1.5 MB ? eta -:--:--\n",
      "   -------------- ------------------------- 0.5/1.5 MB 1.7 MB/s eta 0:00:01\n",
      "   ---------------------------- ----------- 1.0/1.5 MB 1.7 MB/s eta 0:00:01\n",
      "   ----------------------------------- ---- 1.3/1.5 MB 1.7 MB/s eta 0:00:01\n",
      "   ---------------------------------------- 1.5/1.5 MB 1.6 MB/s eta 0:00:00\n",
      "Downloading tqdm-4.67.1-py3-none-any.whl (78 kB)\n",
      "Downloading typer-0.15.1-py3-none-any.whl (44 kB)\n",
      "Using cached wasabi-1.1.3-py3-none-any.whl (27 kB)\n",
      "Using cached weasel-0.4.1-py3-none-any.whl (50 kB)\n",
      "Downloading jinja2-3.1.5-py3-none-any.whl (134 kB)\n",
      "Downloading annotated_types-0.7.0-py3-none-any.whl (13 kB)\n",
      "Downloading blis-1.2.0-cp310-cp310-win_amd64.whl (6.2 MB)\n",
      "   ---------------------------------------- 0.0/6.2 MB ? eta -:--:--\n",
      "   - -------------------------------------- 0.3/6.2 MB ? eta -:--:--\n",
      "   --- ------------------------------------ 0.5/6.2 MB 1.9 MB/s eta 0:00:04\n",
      "   ------ --------------------------------- 1.0/6.2 MB 1.8 MB/s eta 0:00:03\n",
      "   -------- ------------------------------- 1.3/6.2 MB 1.8 MB/s eta 0:00:03\n",
      "   ----------- ---------------------------- 1.8/6.2 MB 1.7 MB/s eta 0:00:03\n",
      "   ------------- -------------------------- 2.1/6.2 MB 1.8 MB/s eta 0:00:03\n",
      "   --------------- ------------------------ 2.4/6.2 MB 1.7 MB/s eta 0:00:03\n",
      "   ------------------ --------------------- 2.9/6.2 MB 1.7 MB/s eta 0:00:02\n",
      "   -------------------- ------------------- 3.1/6.2 MB 1.7 MB/s eta 0:00:02\n",
      "   --------------------- ------------------ 3.4/6.2 MB 1.7 MB/s eta 0:00:02\n",
      "   ----------------------- ---------------- 3.7/6.2 MB 1.7 MB/s eta 0:00:02\n",
      "   ------------------------- -------------- 3.9/6.2 MB 1.7 MB/s eta 0:00:02\n",
      "   ---------------------------- ----------- 4.5/6.2 MB 1.6 MB/s eta 0:00:02\n",
      "   ------------------------------ --------- 4.7/6.2 MB 1.6 MB/s eta 0:00:01\n",
      "   ------------------------------- -------- 5.0/6.2 MB 1.6 MB/s eta 0:00:01\n",
      "   --------------------------------- ------ 5.2/6.2 MB 1.6 MB/s eta 0:00:01\n",
      "   ------------------------------------ --- 5.8/6.2 MB 1.6 MB/s eta 0:00:01\n",
      "   -------------------------------------- - 6.0/6.2 MB 1.6 MB/s eta 0:00:01\n",
      "   ---------------------------------------- 6.2/6.2 MB 1.6 MB/s eta 0:00:00\n",
      "Downloading certifi-2024.12.14-py3-none-any.whl (164 kB)\n",
      "Downloading charset_normalizer-3.4.1-cp310-cp310-win_amd64.whl (102 kB)\n",
      "Downloading click-8.1.8-py3-none-any.whl (98 kB)\n",
      "Using cached cloudpathlib-0.20.0-py3-none-any.whl (52 kB)\n",
      "Using cached confection-0.1.5-py3-none-any.whl (35 kB)\n",
      "Downloading idna-3.10-py3-none-any.whl (70 kB)\n",
      "Using cached language_data-1.3.0-py3-none-any.whl (5.4 MB)\n",
      "Downloading MarkupSafe-3.0.2-cp310-cp310-win_amd64.whl (15 kB)\n",
      "Downloading rich-13.9.4-py3-none-any.whl (242 kB)\n",
      "Downloading shellingham-1.5.4-py2.py3-none-any.whl (9.8 kB)\n",
      "Downloading smart_open-7.1.0-py3-none-any.whl (61 kB)\n",
      "Downloading urllib3-2.3.0-py3-none-any.whl (128 kB)\n",
      "Downloading marisa_trie-1.2.1-cp310-cp310-win_amd64.whl (151 kB)\n",
      "Downloading markdown_it_py-3.0.0-py3-none-any.whl (87 kB)\n",
      "Downloading wrapt-1.17.2-cp310-cp310-win_amd64.whl (38 kB)\n",
      "Downloading mdurl-0.1.2-py3-none-any.whl (10.0 kB)\n",
      "Installing collected packages: cymem, wrapt, wasabi, urllib3, tqdm, spacy-loggers, spacy-legacy, shellingham, pydantic-core, numpy, murmurhash, mdurl, MarkupSafe, marisa-trie, idna, cloudpathlib, click, charset-normalizer, certifi, catalogue, annotated-types, srsly, smart-open, requests, pydantic, preshed, markdown-it-py, language-data, jinja2, blis, rich, langcodes, confection, typer, thinc, weasel, spacy\n",
      "Successfully installed MarkupSafe-3.0.2 annotated-types-0.7.0 blis-1.2.0 catalogue-2.0.10 certifi-2024.12.14 charset-normalizer-3.4.1 click-8.1.8 cloudpathlib-0.20.0 confection-0.1.5 cymem-2.0.11 idna-3.10 jinja2-3.1.5 langcodes-3.5.0 language-data-1.3.0 marisa-trie-1.2.1 markdown-it-py-3.0.0 mdurl-0.1.2 murmurhash-1.0.12 numpy-2.2.2 preshed-3.0.9 pydantic-2.10.6 pydantic-core-2.27.2 requests-2.32.3 rich-13.9.4 shellingham-1.5.4 smart-open-7.1.0 spacy-3.8.4 spacy-legacy-3.0.12 spacy-loggers-1.0.5 srsly-2.5.1 thinc-8.3.4 tqdm-4.67.1 typer-0.15.1 urllib3-2.3.0 wasabi-1.1.3 weasel-0.4.1 wrapt-1.17.2\n"
     ]
    }
   ],
   "source": [
    "!pip install -U spacy \n",
    "\n"
   ]
  },
  {
   "cell_type": "code",
   "execution_count": 3,
   "metadata": {},
   "outputs": [
    {
     "name": "stdout",
     "output_type": "stream",
     "text": [
      "Collecting en-core-web-sm==3.8.0\n",
      "  Downloading https://github.com/explosion/spacy-models/releases/download/en_core_web_sm-3.8.0/en_core_web_sm-3.8.0-py3-none-any.whl (12.8 MB)\n",
      "     ---------------------------------------- 0.0/12.8 MB ? eta -:--:--\n",
      "     ---------------------------------------- 0.0/12.8 MB ? eta -:--:--\n",
      "      --------------------------------------- 0.3/12.8 MB ? eta -:--:--\n",
      "     -- ------------------------------------- 0.8/12.8 MB 1.3 MB/s eta 0:00:10\n",
      "     --- ------------------------------------ 1.0/12.8 MB 1.4 MB/s eta 0:00:09\n",
      "     ---- ----------------------------------- 1.3/12.8 MB 1.5 MB/s eta 0:00:08\n",
      "     ---- ----------------------------------- 1.6/12.8 MB 1.5 MB/s eta 0:00:08\n",
      "     ------ --------------------------------- 2.1/12.8 MB 1.5 MB/s eta 0:00:08\n",
      "     ------- -------------------------------- 2.4/12.8 MB 1.5 MB/s eta 0:00:08\n",
      "     -------- ------------------------------- 2.6/12.8 MB 1.5 MB/s eta 0:00:07\n",
      "     --------- ------------------------------ 2.9/12.8 MB 1.4 MB/s eta 0:00:07\n",
      "     --------- ------------------------------ 3.1/12.8 MB 1.5 MB/s eta 0:00:07\n",
      "     ---------- ----------------------------- 3.4/12.8 MB 1.4 MB/s eta 0:00:07\n",
      "     ------------ --------------------------- 3.9/12.8 MB 1.5 MB/s eta 0:00:07\n",
      "     ------------- -------------------------- 4.2/12.8 MB 1.5 MB/s eta 0:00:06\n",
      "     ------------- -------------------------- 4.5/12.8 MB 1.5 MB/s eta 0:00:06\n",
      "     --------------- ------------------------ 5.0/12.8 MB 1.5 MB/s eta 0:00:06\n",
      "     ---------------- ----------------------- 5.2/12.8 MB 1.5 MB/s eta 0:00:06\n",
      "     ------------------ --------------------- 5.8/12.8 MB 1.5 MB/s eta 0:00:05\n",
      "     ------------------ --------------------- 6.0/12.8 MB 1.5 MB/s eta 0:00:05\n",
      "     ------------------- -------------------- 6.3/12.8 MB 1.5 MB/s eta 0:00:05\n",
      "     --------------------- ------------------ 6.8/12.8 MB 1.5 MB/s eta 0:00:04\n",
      "     ---------------------- ----------------- 7.1/12.8 MB 1.5 MB/s eta 0:00:04\n",
      "     ---------------------- ----------------- 7.3/12.8 MB 1.6 MB/s eta 0:00:04\n",
      "     ------------------------ --------------- 7.9/12.8 MB 1.6 MB/s eta 0:00:04\n",
      "     ------------------------- -------------- 8.1/12.8 MB 1.6 MB/s eta 0:00:03\n",
      "     --------------------------- ------------ 8.7/12.8 MB 1.6 MB/s eta 0:00:03\n",
      "     --------------------------- ------------ 8.9/12.8 MB 1.6 MB/s eta 0:00:03\n",
      "     ----------------------------- ---------- 9.4/12.8 MB 1.6 MB/s eta 0:00:03\n",
      "     ------------------------------ --------- 9.7/12.8 MB 1.6 MB/s eta 0:00:02\n",
      "     ------------------------------- -------- 10.0/12.8 MB 1.6 MB/s eta 0:00:02\n",
      "     -------------------------------- ------- 10.5/12.8 MB 1.6 MB/s eta 0:00:02\n",
      "     --------------------------------- ------ 10.7/12.8 MB 1.6 MB/s eta 0:00:02\n",
      "     ----------------------------------- ---- 11.3/12.8 MB 1.6 MB/s eta 0:00:01\n",
      "     ------------------------------------ --- 11.5/12.8 MB 1.6 MB/s eta 0:00:01\n",
      "     ------------------------------------ --- 11.8/12.8 MB 1.6 MB/s eta 0:00:01\n",
      "     -------------------------------------- - 12.3/12.8 MB 1.6 MB/s eta 0:00:01\n",
      "     ---------------------------------------  12.6/12.8 MB 1.6 MB/s eta 0:00:01\n",
      "     ---------------------------------------- 12.8/12.8 MB 1.6 MB/s eta 0:00:00\n",
      "Installing collected packages: en-core-web-sm\n",
      "Successfully installed en-core-web-sm-3.8.0\n",
      "\u001b[38;5;2m✔ Download and installation successful\u001b[0m\n",
      "You can now load the package via spacy.load('en_core_web_sm')\n"
     ]
    }
   ],
   "source": [
    "!python -m spacy download en_core_web_sm\n"
   ]
  },
  {
   "cell_type": "code",
   "execution_count": 3,
   "metadata": {},
   "outputs": [
    {
     "data": {
      "text/plain": [
       "array([-0.26361305, -0.19110571, -0.04162291,  0.28335148,  0.06932744,\n",
       "       -0.17700176,  0.45878536,  0.42406398, -0.27786827,  0.18580802,\n",
       "        0.95764124, -0.10610598,  0.79904264, -0.32484496, -0.45656717,\n",
       "       -0.08021744, -0.6754379 , -0.7438891 ,  0.69309497, -0.09254972,\n",
       "       -0.62256664,  0.50035465,  0.12270415,  0.1033617 ,  0.03152174,\n",
       "       -0.13257515,  0.31366706, -0.45268816, -1.0235078 ,  0.5346774 ,\n",
       "        0.38691735,  0.39839566, -0.2765986 ,  0.4482148 ,  0.16062415,\n",
       "       -0.64012027, -0.8332192 ,  0.10415477,  0.08079463,  0.6243097 ,\n",
       "       -0.27715054, -0.2260313 ,  0.22071466,  0.8157313 , -0.38100028,\n",
       "        0.10224465, -0.67340624, -0.1257666 , -0.36878866, -0.48726636,\n",
       "        0.4700474 , -0.18679255, -0.2662779 , -0.41765022,  0.0404346 ,\n",
       "        0.33650616,  1.543413  , -0.05253956,  0.0344047 , -0.29650915,\n",
       "       -0.54509145, -0.62709254,  0.31832364, -0.8078278 , -0.11061148,\n",
       "        0.202402  ,  0.40688074, -0.5568315 ,  0.09635765, -0.3780042 ,\n",
       "       -0.46335277,  0.28312582,  0.28976187, -0.4162391 , -0.45587048,\n",
       "        0.00979104, -0.7696308 ,  0.38292277, -0.4376953 ,  0.13421182,\n",
       "       -0.24320942,  0.15877488, -0.28558725, -0.16140246,  0.01667351,\n",
       "        0.36810932,  0.05752604, -0.10136405,  0.6115271 ,  0.811337  ,\n",
       "       -0.72119164,  0.68399227,  0.84385014,  0.21363954, -0.2182349 ,\n",
       "        0.5539627 ], dtype=float32)"
      ]
     },
     "execution_count": 3,
     "metadata": {},
     "output_type": "execute_result"
    }
   ],
   "source": [
    "import spacy  \n",
    "nlp = spacy.load(\"en_core_web_sm\")\n",
    "text = \"hello world\" \n",
    "doc = nlp(text)\n",
    "doc.vector "
   ]
  },
  {
   "cell_type": "code",
   "execution_count": 4,
   "metadata": {},
   "outputs": [
    {
     "name": "stdout",
     "output_type": "stream",
     "text": [
      "                                                text  target\n",
      "0  From ilug-admin@linux.ie Mon Jul 29 11:28:02 2...       0\n",
      "1  From gort44@excite.com Mon Jun 24 17:54:21 200...       1\n",
      "2  From fork-admin@xent.com Mon Jul 29 11:39:57 2...       1\n",
      "3  From dcm123@btamail.net.cn Mon Jun 24 17:49:23...       1\n",
      "4  From ilug-admin@linux.ie Mon Aug 19 11:02:47 2...       0\n"
     ]
    }
   ],
   "source": [
    "import pandas as pd \n",
    "df = pd.read_csv(\"C:\\\\Users\\\\ASUS\\\\OneDrive\\\\Documents\\\\spam_assassin.csv\")\n",
    "print (df.head())\n",
    "\n"
   ]
  },
  {
   "cell_type": "code",
   "execution_count": 5,
   "metadata": {},
   "outputs": [
    {
     "name": "stdout",
     "output_type": "stream",
     "text": [
      "                                                   text  target\n",
      "5791  From ilug-admin@linux.ie Mon Jul 22 18:12:45 2...       0\n",
      "5792  From fork-admin@xent.com Mon Oct 7 20:37:02 20...       0\n",
      "5793  Received: from hq.pro-ns.net (localhost [127.0...       1\n",
      "5794  From razor-users-admin@lists.sourceforge.net T...       0\n",
      "5795  From rssfeeds@jmason.org Mon Sep 30 13:44:10 2...       0\n"
     ]
    }
   ],
   "source": [
    "print(df.tail())"
   ]
  },
  {
   "cell_type": "code",
   "execution_count": 6,
   "metadata": {},
   "outputs": [
    {
     "name": "stdout",
     "output_type": "stream",
     "text": [
      "(5796, 2)\n"
     ]
    }
   ],
   "source": [
    "print(df.shape)"
   ]
  },
  {
   "cell_type": "code",
   "execution_count": 7,
   "metadata": {},
   "outputs": [
    {
     "data": {
      "text/plain": [
       "target\n",
       "0    3900\n",
       "1    1896\n",
       "Name: count, dtype: int64"
      ]
     },
     "execution_count": 7,
     "metadata": {},
     "output_type": "execute_result"
    }
   ],
   "source": [
    "df['target'].value_counts()\n"
   ]
  },
  {
   "cell_type": "code",
   "execution_count": 8,
   "metadata": {},
   "outputs": [],
   "source": [
    "\n",
    "def preprocess(text):\n",
    "    doc = nlp(text)\n",
    "    filtered_tokens = []\n",
    "    for token in doc:\n",
    "        if token.is_stop or token.is_punct:\n",
    "            continue\n",
    "        filtered_tokens.append(token.lemma_)\n",
    "    return ' '.join(filtered_tokens)"
   ]
  },
  {
   "cell_type": "code",
   "execution_count": 9,
   "metadata": {},
   "outputs": [],
   "source": [
    "df['preprocessed_text'] = df['text'].apply(lambda text: preprocess(text))"
   ]
  },
  {
   "cell_type": "code",
   "execution_count": 10,
   "metadata": {},
   "outputs": [
    {
     "data": {
      "text/html": [
       "<div>\n",
       "<style scoped>\n",
       "    .dataframe tbody tr th:only-of-type {\n",
       "        vertical-align: middle;\n",
       "    }\n",
       "\n",
       "    .dataframe tbody tr th {\n",
       "        vertical-align: top;\n",
       "    }\n",
       "\n",
       "    .dataframe thead th {\n",
       "        text-align: right;\n",
       "    }\n",
       "</style>\n",
       "<table border=\"1\" class=\"dataframe\">\n",
       "  <thead>\n",
       "    <tr style=\"text-align: right;\">\n",
       "      <th></th>\n",
       "      <th>text</th>\n",
       "      <th>target</th>\n",
       "      <th>preprocessed_text</th>\n",
       "    </tr>\n",
       "  </thead>\n",
       "  <tbody>\n",
       "    <tr>\n",
       "      <th>0</th>\n",
       "      <td>From ilug-admin@linux.ie Mon Jul 29 11:28:02 2...</td>\n",
       "      <td>0</td>\n",
       "      <td>ilug-admin@linux.ie Mon Jul 29 11:28:02 2002 R...</td>\n",
       "    </tr>\n",
       "    <tr>\n",
       "      <th>1</th>\n",
       "      <td>From gort44@excite.com Mon Jun 24 17:54:21 200...</td>\n",
       "      <td>1</td>\n",
       "      <td>gort44@excite.com Mon Jun 24 17:54:21 2002 Ret...</td>\n",
       "    </tr>\n",
       "    <tr>\n",
       "      <th>2</th>\n",
       "      <td>From fork-admin@xent.com Mon Jul 29 11:39:57 2...</td>\n",
       "      <td>1</td>\n",
       "      <td>fork-admin@xent.com Mon Jul 29 11:39:57 2002 R...</td>\n",
       "    </tr>\n",
       "    <tr>\n",
       "      <th>3</th>\n",
       "      <td>From dcm123@btamail.net.cn Mon Jun 24 17:49:23...</td>\n",
       "      <td>1</td>\n",
       "      <td>dcm123@btamail.net.cn Mon Jun 24 17:49:23 2002...</td>\n",
       "    </tr>\n",
       "    <tr>\n",
       "      <th>4</th>\n",
       "      <td>From ilug-admin@linux.ie Mon Aug 19 11:02:47 2...</td>\n",
       "      <td>0</td>\n",
       "      <td>ilug-admin@linux.ie Mon Aug 19 11:02:47 2002 R...</td>\n",
       "    </tr>\n",
       "  </tbody>\n",
       "</table>\n",
       "</div>"
      ],
      "text/plain": [
       "                                                text  target  \\\n",
       "0  From ilug-admin@linux.ie Mon Jul 29 11:28:02 2...       0   \n",
       "1  From gort44@excite.com Mon Jun 24 17:54:21 200...       1   \n",
       "2  From fork-admin@xent.com Mon Jul 29 11:39:57 2...       1   \n",
       "3  From dcm123@btamail.net.cn Mon Jun 24 17:49:23...       1   \n",
       "4  From ilug-admin@linux.ie Mon Aug 19 11:02:47 2...       0   \n",
       "\n",
       "                                   preprocessed_text  \n",
       "0  ilug-admin@linux.ie Mon Jul 29 11:28:02 2002 R...  \n",
       "1  gort44@excite.com Mon Jun 24 17:54:21 2002 Ret...  \n",
       "2  fork-admin@xent.com Mon Jul 29 11:39:57 2002 R...  \n",
       "3  dcm123@btamail.net.cn Mon Jun 24 17:49:23 2002...  \n",
       "4  ilug-admin@linux.ie Mon Aug 19 11:02:47 2002 R...  "
      ]
     },
     "execution_count": 10,
     "metadata": {},
     "output_type": "execute_result"
    }
   ],
   "source": [
    "df.head()"
   ]
  },
  {
   "cell_type": "code",
   "execution_count": 11,
   "metadata": {},
   "outputs": [],
   "source": [
    "df['vector'] = df['preprocessed_text'].apply(lambda text: nlp(text).vector) "
   ]
  },
  {
   "cell_type": "code",
   "execution_count": 12,
   "metadata": {},
   "outputs": [
    {
     "data": {
      "text/html": [
       "<div>\n",
       "<style scoped>\n",
       "    .dataframe tbody tr th:only-of-type {\n",
       "        vertical-align: middle;\n",
       "    }\n",
       "\n",
       "    .dataframe tbody tr th {\n",
       "        vertical-align: top;\n",
       "    }\n",
       "\n",
       "    .dataframe thead th {\n",
       "        text-align: right;\n",
       "    }\n",
       "</style>\n",
       "<table border=\"1\" class=\"dataframe\">\n",
       "  <thead>\n",
       "    <tr style=\"text-align: right;\">\n",
       "      <th></th>\n",
       "      <th>text</th>\n",
       "      <th>target</th>\n",
       "      <th>preprocessed_text</th>\n",
       "      <th>vector</th>\n",
       "    </tr>\n",
       "  </thead>\n",
       "  <tbody>\n",
       "    <tr>\n",
       "      <th>0</th>\n",
       "      <td>From ilug-admin@linux.ie Mon Jul 29 11:28:02 2...</td>\n",
       "      <td>0</td>\n",
       "      <td>ilug-admin@linux.ie Mon Jul 29 11:28:02 2002 R...</td>\n",
       "      <td>[-0.08486493, -0.5275405, 0.22274852, 0.089899...</td>\n",
       "    </tr>\n",
       "    <tr>\n",
       "      <th>1</th>\n",
       "      <td>From gort44@excite.com Mon Jun 24 17:54:21 200...</td>\n",
       "      <td>1</td>\n",
       "      <td>gort44@excite.com Mon Jun 24 17:54:21 2002 Ret...</td>\n",
       "      <td>[-0.028984735, -0.54292554, 0.023783619, 0.047...</td>\n",
       "    </tr>\n",
       "    <tr>\n",
       "      <th>2</th>\n",
       "      <td>From fork-admin@xent.com Mon Jul 29 11:39:57 2...</td>\n",
       "      <td>1</td>\n",
       "      <td>fork-admin@xent.com Mon Jul 29 11:39:57 2002 R...</td>\n",
       "      <td>[-0.14445716, -0.38496515, 0.25952798, 0.02373...</td>\n",
       "    </tr>\n",
       "    <tr>\n",
       "      <th>3</th>\n",
       "      <td>From dcm123@btamail.net.cn Mon Jun 24 17:49:23...</td>\n",
       "      <td>1</td>\n",
       "      <td>dcm123@btamail.net.cn Mon Jun 24 17:49:23 2002...</td>\n",
       "      <td>[-0.28136492, -0.4223642, 0.29055256, 0.019668...</td>\n",
       "    </tr>\n",
       "    <tr>\n",
       "      <th>4</th>\n",
       "      <td>From ilug-admin@linux.ie Mon Aug 19 11:02:47 2...</td>\n",
       "      <td>0</td>\n",
       "      <td>ilug-admin@linux.ie Mon Aug 19 11:02:47 2002 R...</td>\n",
       "      <td>[-0.16755047, -0.49341723, 0.23376827, 0.00462...</td>\n",
       "    </tr>\n",
       "  </tbody>\n",
       "</table>\n",
       "</div>"
      ],
      "text/plain": [
       "                                                text  target  \\\n",
       "0  From ilug-admin@linux.ie Mon Jul 29 11:28:02 2...       0   \n",
       "1  From gort44@excite.com Mon Jun 24 17:54:21 200...       1   \n",
       "2  From fork-admin@xent.com Mon Jul 29 11:39:57 2...       1   \n",
       "3  From dcm123@btamail.net.cn Mon Jun 24 17:49:23...       1   \n",
       "4  From ilug-admin@linux.ie Mon Aug 19 11:02:47 2...       0   \n",
       "\n",
       "                                   preprocessed_text  \\\n",
       "0  ilug-admin@linux.ie Mon Jul 29 11:28:02 2002 R...   \n",
       "1  gort44@excite.com Mon Jun 24 17:54:21 2002 Ret...   \n",
       "2  fork-admin@xent.com Mon Jul 29 11:39:57 2002 R...   \n",
       "3  dcm123@btamail.net.cn Mon Jun 24 17:49:23 2002...   \n",
       "4  ilug-admin@linux.ie Mon Aug 19 11:02:47 2002 R...   \n",
       "\n",
       "                                              vector  \n",
       "0  [-0.08486493, -0.5275405, 0.22274852, 0.089899...  \n",
       "1  [-0.028984735, -0.54292554, 0.023783619, 0.047...  \n",
       "2  [-0.14445716, -0.38496515, 0.25952798, 0.02373...  \n",
       "3  [-0.28136492, -0.4223642, 0.29055256, 0.019668...  \n",
       "4  [-0.16755047, -0.49341723, 0.23376827, 0.00462...  "
      ]
     },
     "execution_count": 12,
     "metadata": {},
     "output_type": "execute_result"
    }
   ],
   "source": [
    "df.head()"
   ]
  },
  {
   "cell_type": "code",
   "execution_count": 13,
   "metadata": {},
   "outputs": [],
   "source": [
    "from sklearn.model_selection import train_test_split\n",
    "\n",
    "\n",
    "\n",
    "X_train, X_test, y_train, y_test = train_test_split(\n",
    "    df.vector.values, \n",
    "    df.target, \n",
    "    test_size=0.2, \n",
    "    random_state=2022,\n",
    "    stratify=df.target\n",
    ")"
   ]
  },
  {
   "cell_type": "code",
   "execution_count": 25,
   "metadata": {},
   "outputs": [
    {
     "name": "stdout",
     "output_type": "stream",
     "text": [
      "Shape of X_train before reshaping:  (4636,)\n",
      "Shape of X_test before reshaping:  (1160,)\n",
      "Shape of X_train after reshaping:  (4636, 96)\n",
      "Shape of X_test after reshaping:  (1160, 96)\n"
     ]
    }
   ],
   "source": [
    "import numpy as np\n",
    "\n",
    "print(\"Shape of X_train before reshaping: \", X_train.shape)\n",
    "print(\"Shape of X_test before reshaping: \", X_test.shape)\n",
    "\n",
    "\n",
    "X_train_2d = np.stack(X_train)\n",
    "X_test_2d =  np.stack(X_test)\n",
    "\n",
    "print(\"Shape of X_train after reshaping: \", X_train_2d.shape)\n",
    "print(\"Shape of X_test after reshaping: \", X_test_2d.shape)"
   ]
  },
  {
   "cell_type": "code",
   "execution_count": null,
   "metadata": {},
   "outputs": [
    {
     "name": "stdout",
     "output_type": "stream",
     "text": [
      "              precision    recall  f1-score   support\n",
      "\n",
      "           0       0.92      0.92      0.92       781\n",
      "           1       0.84      0.83      0.83       379\n",
      "\n",
      "    accuracy                           0.89      1160\n",
      "   macro avg       0.88      0.88      0.88      1160\n",
      "weighted avg       0.89      0.89      0.89      1160\n",
      "\n"
     ]
    }
   ],
   "source": [
    "from sklearn.tree import DecisionTreeClassifier\n",
    "from sklearn.metrics import classification_report \n",
    "\n",
    "\n",
    "#1. creating a Decision Tree model object\n",
    "clf = DecisionTreeClassifier()\n",
    "\n",
    "#2. fit with all_train_embeddings and y_train\n",
    "clf.fit(X_train_2d, y_train)\n",
    "\n",
    "\n",
    "\n",
    "y_pred = clf.predict(X_test_2d)\n",
    "\n",
    "\n",
    "\n",
    "#4. print the classfication report\n",
    "print(classification_report(y_test, y_pred))"
   ]
  },
  {
   "cell_type": "code",
   "execution_count": 18,
   "metadata": {},
   "outputs": [],
   "source": [
    "from joblib import dump,load \n",
    "dump(clf,'fichier.joblib')\n",
    "loaded_clf=load('fichier.joblib')"
   ]
  },
  {
   "cell_type": "code",
   "execution_count": 20,
   "metadata": {},
   "outputs": [
    {
     "name": "stdout",
     "output_type": "stream",
     "text": [
      "              precision    recall  f1-score   support\n",
      "\n",
      "           0       0.92      0.92      0.92       781\n",
      "           1       0.84      0.83      0.83       379\n",
      "\n",
      "    accuracy                           0.89      1160\n",
      "   macro avg       0.88      0.88      0.88      1160\n",
      "weighted avg       0.89      0.89      0.89      1160\n",
      "\n"
     ]
    }
   ],
   "source": [
    "y_pred = loaded_clf.predict(X_test_2d)\n",
    "print(classification_report(y_test, y_pred))"
   ]
  },
  {
   "cell_type": "code",
   "execution_count": 22,
   "metadata": {},
   "outputs": [
    {
     "name": "stdout",
     "output_type": "stream",
     "text": [
      "1160\n"
     ]
    }
   ],
   "source": [
    "print (len(y_pred))"
   ]
  }
 ],
 "metadata": {
  "kernelspec": {
   "display_name": "Python 3",
   "language": "python",
   "name": "python3"
  },
  "language_info": {
   "codemirror_mode": {
    "name": "ipython",
    "version": 3
   },
   "file_extension": ".py",
   "mimetype": "text/x-python",
   "name": "python",
   "nbconvert_exporter": "python",
   "pygments_lexer": "ipython3",
   "version": "3.10.16"
  }
 },
 "nbformat": 4,
 "nbformat_minor": 2
}
